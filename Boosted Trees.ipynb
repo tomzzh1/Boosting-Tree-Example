{
 "cells": [
  {
   "cell_type": "code",
   "execution_count": 1,
   "metadata": {},
   "outputs": [],
   "source": [
    "import pandas as pd\n",
    "from matplotlib import pyplot as plt\n",
    "from sklearn.tree import DecisionTreeClassifier, plot_tree\n",
    "from sklearn import tree\n",
    "import numpy as np"
   ]
  },
  {
   "cell_type": "markdown",
   "metadata": {},
   "source": [
    "### illustrate the how AdaBoost Classifier work\n",
    "\n",
    "1. Create the dataset\n",
    "\n",
    "2. initialize the sample weight 1/(number of rows in the data) "
   ]
  },
  {
   "cell_type": "code",
   "execution_count": 2,
   "metadata": {},
   "outputs": [
    {
     "data": {
      "text/html": [
       "<div>\n",
       "<style scoped>\n",
       "    .dataframe tbody tr th:only-of-type {\n",
       "        vertical-align: middle;\n",
       "    }\n",
       "\n",
       "    .dataframe tbody tr th {\n",
       "        vertical-align: top;\n",
       "    }\n",
       "\n",
       "    .dataframe thead th {\n",
       "        text-align: right;\n",
       "    }\n",
       "</style>\n",
       "<table border=\"1\" class=\"dataframe\">\n",
       "  <thead>\n",
       "    <tr style=\"text-align: right;\">\n",
       "      <th></th>\n",
       "      <th>Chest Pain</th>\n",
       "      <th>Good Blood Circulation.</th>\n",
       "      <th>Patient Weights</th>\n",
       "      <th>Heart Disease</th>\n",
       "      <th>sample weight</th>\n",
       "    </tr>\n",
       "  </thead>\n",
       "  <tbody>\n",
       "    <tr>\n",
       "      <th>0</th>\n",
       "      <td>1</td>\n",
       "      <td>1</td>\n",
       "      <td>205</td>\n",
       "      <td>1</td>\n",
       "      <td>0.125</td>\n",
       "    </tr>\n",
       "    <tr>\n",
       "      <th>1</th>\n",
       "      <td>0</td>\n",
       "      <td>0</td>\n",
       "      <td>180</td>\n",
       "      <td>1</td>\n",
       "      <td>0.125</td>\n",
       "    </tr>\n",
       "    <tr>\n",
       "      <th>2</th>\n",
       "      <td>0</td>\n",
       "      <td>0</td>\n",
       "      <td>210</td>\n",
       "      <td>1</td>\n",
       "      <td>0.125</td>\n",
       "    </tr>\n",
       "    <tr>\n",
       "      <th>3</th>\n",
       "      <td>1</td>\n",
       "      <td>1</td>\n",
       "      <td>167</td>\n",
       "      <td>1</td>\n",
       "      <td>0.125</td>\n",
       "    </tr>\n",
       "    <tr>\n",
       "      <th>4</th>\n",
       "      <td>0</td>\n",
       "      <td>0</td>\n",
       "      <td>156</td>\n",
       "      <td>0</td>\n",
       "      <td>0.125</td>\n",
       "    </tr>\n",
       "    <tr>\n",
       "      <th>5</th>\n",
       "      <td>1</td>\n",
       "      <td>1</td>\n",
       "      <td>125</td>\n",
       "      <td>0</td>\n",
       "      <td>0.125</td>\n",
       "    </tr>\n",
       "    <tr>\n",
       "      <th>6</th>\n",
       "      <td>0</td>\n",
       "      <td>0</td>\n",
       "      <td>168</td>\n",
       "      <td>0</td>\n",
       "      <td>0.125</td>\n",
       "    </tr>\n",
       "    <tr>\n",
       "      <th>7</th>\n",
       "      <td>1</td>\n",
       "      <td>1</td>\n",
       "      <td>172</td>\n",
       "      <td>0</td>\n",
       "      <td>0.125</td>\n",
       "    </tr>\n",
       "  </tbody>\n",
       "</table>\n",
       "</div>"
      ],
      "text/plain": [
       "   Chest Pain  Good Blood Circulation.  Patient Weights  Heart Disease  \\\n",
       "0           1                        1              205              1   \n",
       "1           0                        0              180              1   \n",
       "2           0                        0              210              1   \n",
       "3           1                        1              167              1   \n",
       "4           0                        0              156              0   \n",
       "5           1                        1              125              0   \n",
       "6           0                        0              168              0   \n",
       "7           1                        1              172              0   \n",
       "\n",
       "   sample weight  \n",
       "0          0.125  \n",
       "1          0.125  \n",
       "2          0.125  \n",
       "3          0.125  \n",
       "4          0.125  \n",
       "5          0.125  \n",
       "6          0.125  \n",
       "7          0.125  "
      ]
     },
     "execution_count": 2,
     "metadata": {},
     "output_type": "execute_result"
    }
   ],
   "source": [
    "data = pd.DataFrame({'Chest Pain': [1,0,0,1,0,1,0,1],\n",
    "                    'Good Blood Circulation.':[1,0,0,1,0,1,0,1],\n",
    "                    'Patient Weights':[205,180,210,167,156,125,168,172,],\n",
    "                     'Heart Disease':[1,1,1,1,0,0,0,0]\n",
    "                    })\n",
    "\n",
    "# initially, all sample get the same weight\n",
    "# weight = 1/number of sample\n",
    "data['sample weight'] =1/8\n",
    "data"
   ]
  },
  {
   "cell_type": "markdown",
   "metadata": {},
   "source": [
    "### Use the patient weights to detect heart disease\n",
    "\n",
    "1. since it is best variable to separate the heart disease"
   ]
  },
  {
   "cell_type": "code",
   "execution_count": 3,
   "metadata": {},
   "outputs": [
    {
     "data": {
      "image/png": "[encoded data removed]",
      "text/plain": [
       "<Figure size 360x288 with 1 Axes>"
      ]
     },
     "metadata": {
      "needs_background": "light"
     },
     "output_type": "display_data"
    }
   ],
   "source": [
    "X,y = data[['Patient Weights']], data['Heart Disease'] \n",
    "tree1 = DecisionTreeClassifier(max_depth=1)\n",
    "tree1 = tree1.fit(X, y)\n",
    "\n",
    "fig = plt.figure(figsize=(5,4))\n",
    "_ = tree.plot_tree(tree1, feature_names = X.columns, class_names = ['No', 'Yes'], filled = True)"
   ]
  },
  {
   "cell_type": "markdown",
   "metadata": {},
   "source": [
    "### Since the first prediction is made, \n",
    "\n",
    "1. we need to update the sample weight\n",
    "\n",
    "2. we firstly need to calculate the total error\n",
    "\n",
    "3. then calculate the amount of say"
   ]
  },
  {
   "cell_type": "markdown",
   "metadata": {},
   "source": [
    "\\begin{equation*}\n",
    "Amount \\, of \\, Say   = \\frac{1}{2} \\times log(\\frac{1-Total \\, error}{Total \\, error})\n",
    "\\end{equation*}"
   ]
  },
  {
   "cell_type": "code",
   "execution_count": 4,
   "metadata": {},
   "outputs": [
    {
     "name": "stdout",
     "output_type": "stream",
     "text": [
      "We made a prediction error. \n",
      "Then total error is the total number of misclassification multiply the sample weight\n",
      "Total error is 1/8\n",
      "Using the formula mention above, Amount of Say is 0.9729550745276566\n"
     ]
    }
   ],
   "source": [
    "\n",
    "total_error = sum((y - tree1.predict(data[['Patient Weights']])) * data['sample weight'])\n",
    "print('We made a prediction error. \\nThen total error is the total number of misclassification multiply the sample weight')\n",
    "print('Total error is 1/8')\n",
    "amount_of_say = 1/2*np.log((1-total_error)/total_error)\n",
    "print('Using the formula mention above, Amount of Say is',amount_of_say)\n"
   ]
  },
  {
   "cell_type": "markdown",
   "metadata": {},
   "source": [
    "### We need to assign new sample weight\n",
    "\n",
    "**For the misclassified rows**\n",
    "\n",
    "\\begin{equation*}\n",
    "New \\, Sample \\, Weight  = Old \\, Sample \\, Weight \\times e^{amount of say}\n",
    "\\end{equation*}\n",
    "\n",
    "**For the correctly predicted rows**\n",
    "\n",
    "\\begin{equation*}\n",
    "New \\, Sample \\, Weight  = Old \\, Sample \\, Weight \\times e^{-amount of say}\n",
    "\\end{equation*}"
   ]
  },
  {
   "cell_type": "code",
   "execution_count": 5,
   "metadata": {},
   "outputs": [],
   "source": [
    "new_weight = [np.exp(amount_of_say)*data['sample weight'][idx] \n",
    "                  if val != y[idx]  else np.exp(-1*amount_of_say)*data['sample weight'][idx]  \n",
    "              for idx,val in enumerate(tree1.predict(data[['Patient Weights']])) ]\n"
   ]
  },
  {
   "cell_type": "code",
   "execution_count": 6,
   "metadata": {},
   "outputs": [
    {
     "data": {
      "text/html": [
       "<div>\n",
       "<style scoped>\n",
       "    .dataframe tbody tr th:only-of-type {\n",
       "        vertical-align: middle;\n",
       "    }\n",
       "\n",
       "    .dataframe tbody tr th {\n",
       "        vertical-align: top;\n",
       "    }\n",
       "\n",
       "    .dataframe thead th {\n",
       "        text-align: right;\n",
       "    }\n",
       "</style>\n",
       "<table border=\"1\" class=\"dataframe\">\n",
       "  <thead>\n",
       "    <tr style=\"text-align: right;\">\n",
       "      <th></th>\n",
       "      <th>Chest Pain</th>\n",
       "      <th>Good Blood Circulation.</th>\n",
       "      <th>Patient Weights</th>\n",
       "      <th>Heart Disease</th>\n",
       "      <th>sample weight</th>\n",
       "      <th>new_weight</th>\n",
       "    </tr>\n",
       "  </thead>\n",
       "  <tbody>\n",
       "    <tr>\n",
       "      <th>0</th>\n",
       "      <td>1</td>\n",
       "      <td>1</td>\n",
       "      <td>205</td>\n",
       "      <td>1</td>\n",
       "      <td>0.125</td>\n",
       "      <td>0.071429</td>\n",
       "    </tr>\n",
       "    <tr>\n",
       "      <th>1</th>\n",
       "      <td>0</td>\n",
       "      <td>0</td>\n",
       "      <td>180</td>\n",
       "      <td>1</td>\n",
       "      <td>0.125</td>\n",
       "      <td>0.071429</td>\n",
       "    </tr>\n",
       "    <tr>\n",
       "      <th>2</th>\n",
       "      <td>0</td>\n",
       "      <td>0</td>\n",
       "      <td>210</td>\n",
       "      <td>1</td>\n",
       "      <td>0.125</td>\n",
       "      <td>0.071429</td>\n",
       "    </tr>\n",
       "    <tr>\n",
       "      <th>3</th>\n",
       "      <td>1</td>\n",
       "      <td>1</td>\n",
       "      <td>167</td>\n",
       "      <td>1</td>\n",
       "      <td>0.125</td>\n",
       "      <td>0.500000</td>\n",
       "    </tr>\n",
       "    <tr>\n",
       "      <th>4</th>\n",
       "      <td>0</td>\n",
       "      <td>0</td>\n",
       "      <td>156</td>\n",
       "      <td>0</td>\n",
       "      <td>0.125</td>\n",
       "      <td>0.071429</td>\n",
       "    </tr>\n",
       "    <tr>\n",
       "      <th>5</th>\n",
       "      <td>1</td>\n",
       "      <td>1</td>\n",
       "      <td>125</td>\n",
       "      <td>0</td>\n",
       "      <td>0.125</td>\n",
       "      <td>0.071429</td>\n",
       "    </tr>\n",
       "    <tr>\n",
       "      <th>6</th>\n",
       "      <td>0</td>\n",
       "      <td>0</td>\n",
       "      <td>168</td>\n",
       "      <td>0</td>\n",
       "      <td>0.125</td>\n",
       "      <td>0.071429</td>\n",
       "    </tr>\n",
       "    <tr>\n",
       "      <th>7</th>\n",
       "      <td>1</td>\n",
       "      <td>1</td>\n",
       "      <td>172</td>\n",
       "      <td>0</td>\n",
       "      <td>0.125</td>\n",
       "      <td>0.071429</td>\n",
       "    </tr>\n",
       "  </tbody>\n",
       "</table>\n",
       "</div>"
      ],
      "text/plain": [
       "   Chest Pain  Good Blood Circulation.  Patient Weights  Heart Disease  \\\n",
       "0           1                        1              205              1   \n",
       "1           0                        0              180              1   \n",
       "2           0                        0              210              1   \n",
       "3           1                        1              167              1   \n",
       "4           0                        0              156              0   \n",
       "5           1                        1              125              0   \n",
       "6           0                        0              168              0   \n",
       "7           1                        1              172              0   \n",
       "\n",
       "   sample weight  new_weight  \n",
       "0          0.125    0.071429  \n",
       "1          0.125    0.071429  \n",
       "2          0.125    0.071429  \n",
       "3          0.125    0.500000  \n",
       "4          0.125    0.071429  \n",
       "5          0.125    0.071429  \n",
       "6          0.125    0.071429  \n",
       "7          0.125    0.071429  "
      ]
     },
     "execution_count": 6,
     "metadata": {},
     "output_type": "execute_result"
    }
   ],
   "source": [
    "data['new_weight'] = new_weight/sum(new_weight)\n",
    "data"
   ]
  },
  {
   "cell_type": "code",
   "execution_count": 7,
   "metadata": {},
   "outputs": [
    {
     "data": {
      "text/html": [
       "<div>\n",
       "<style scoped>\n",
       "    .dataframe tbody tr th:only-of-type {\n",
       "        vertical-align: middle;\n",
       "    }\n",
       "\n",
       "    .dataframe tbody tr th {\n",
       "        vertical-align: top;\n",
       "    }\n",
       "\n",
       "    .dataframe thead th {\n",
       "        text-align: right;\n",
       "    }\n",
       "</style>\n",
       "<table border=\"1\" class=\"dataframe\">\n",
       "  <thead>\n",
       "    <tr style=\"text-align: right;\">\n",
       "      <th></th>\n",
       "      <th>Chest Pain</th>\n",
       "      <th>Good Blood Circulation.</th>\n",
       "      <th>Patient Weights</th>\n",
       "      <th>Heart Disease</th>\n",
       "      <th>sample weight</th>\n",
       "    </tr>\n",
       "  </thead>\n",
       "  <tbody>\n",
       "    <tr>\n",
       "      <th>1</th>\n",
       "      <td>0</td>\n",
       "      <td>0</td>\n",
       "      <td>180</td>\n",
       "      <td>1</td>\n",
       "      <td>0.125</td>\n",
       "    </tr>\n",
       "    <tr>\n",
       "      <th>6</th>\n",
       "      <td>0</td>\n",
       "      <td>0</td>\n",
       "      <td>168</td>\n",
       "      <td>0</td>\n",
       "      <td>0.125</td>\n",
       "    </tr>\n",
       "    <tr>\n",
       "      <th>2</th>\n",
       "      <td>0</td>\n",
       "      <td>0</td>\n",
       "      <td>210</td>\n",
       "      <td>1</td>\n",
       "      <td>0.125</td>\n",
       "    </tr>\n",
       "    <tr>\n",
       "      <th>3</th>\n",
       "      <td>1</td>\n",
       "      <td>1</td>\n",
       "      <td>167</td>\n",
       "      <td>1</td>\n",
       "      <td>0.125</td>\n",
       "    </tr>\n",
       "    <tr>\n",
       "      <th>3</th>\n",
       "      <td>1</td>\n",
       "      <td>1</td>\n",
       "      <td>167</td>\n",
       "      <td>1</td>\n",
       "      <td>0.125</td>\n",
       "    </tr>\n",
       "    <tr>\n",
       "      <th>3</th>\n",
       "      <td>1</td>\n",
       "      <td>1</td>\n",
       "      <td>167</td>\n",
       "      <td>1</td>\n",
       "      <td>0.125</td>\n",
       "    </tr>\n",
       "    <tr>\n",
       "      <th>3</th>\n",
       "      <td>1</td>\n",
       "      <td>1</td>\n",
       "      <td>167</td>\n",
       "      <td>1</td>\n",
       "      <td>0.125</td>\n",
       "    </tr>\n",
       "    <tr>\n",
       "      <th>3</th>\n",
       "      <td>1</td>\n",
       "      <td>1</td>\n",
       "      <td>167</td>\n",
       "      <td>1</td>\n",
       "      <td>0.125</td>\n",
       "    </tr>\n",
       "  </tbody>\n",
       "</table>\n",
       "</div>"
      ],
      "text/plain": [
       "   Chest Pain  Good Blood Circulation.  Patient Weights  Heart Disease  \\\n",
       "1           0                        0              180              1   \n",
       "6           0                        0              168              0   \n",
       "2           0                        0              210              1   \n",
       "3           1                        1              167              1   \n",
       "3           1                        1              167              1   \n",
       "3           1                        1              167              1   \n",
       "3           1                        1              167              1   \n",
       "3           1                        1              167              1   \n",
       "\n",
       "   sample weight  \n",
       "1          0.125  \n",
       "6          0.125  \n",
       "2          0.125  \n",
       "3          0.125  \n",
       "3          0.125  \n",
       "3          0.125  \n",
       "3          0.125  \n",
       "3          0.125  "
      ]
     },
     "execution_count": 7,
     "metadata": {},
     "output_type": "execute_result"
    }
   ],
   "source": [
    "cols = ['Chest Pain', 'Good Blood Circulation.', \n",
    "        'Patient Weights','Heart Disease']\n",
    "\n",
    "from numpy.random import choice\n",
    "\n",
    "temp2 = data[cols].loc[choice(range(8), 8,p=data['new_weight'])]\n",
    "\n",
    "temp2['sample weight'] =1/8\n",
    "\n",
    "# We can observe that 3rd index row shows up many times\n",
    "# We want to correct the mistake we made last time\n",
    "# by giving that row more weight\n",
    "temp2"
   ]
  },
  {
   "cell_type": "code",
   "execution_count": 8,
   "metadata": {},
   "outputs": [
    {
     "data": {
      "image/png": "[encoded data removed]",
      "text/plain": [
       "<Figure size 360x288 with 1 Axes>"
      ]
     },
     "metadata": {
      "needs_background": "light"
     },
     "output_type": "display_data"
    }
   ],
   "source": [
    "## Since we are making a point\n",
    "# let us not use patient weights again, because we can't calculate the amount of say if we \n",
    "# use patient weights again\n",
    "#\n",
    "\n",
    "\n",
    "X,y = temp2[list(set(cols)-{'Patient Weights','Heart Disease'})], temp2['Heart Disease'] \n",
    "tree2 = DecisionTreeClassifier(max_depth=1)\n",
    "tree2 = tree2.fit(X, y)\n",
    "\n",
    "fig = plt.figure(figsize=(5,4))\n",
    "_ = tree.plot_tree(tree2, feature_names = temp2.columns, class_names = ['No', 'Yes'], filled = True)"
   ]
  },
  {
   "cell_type": "markdown",
   "metadata": {},
   "source": [
    "### Since we made another tree, we use above-mentioned methods to calculate the amount of say\n",
    "\n",
    "**Repeat previous steps until the number of iterations equals the number specified by the hyperparameter (i.e. number of estimators)**"
   ]
  },
  {
   "cell_type": "code",
   "execution_count": 9,
   "metadata": {},
   "outputs": [
    {
     "data": {
      "text/plain": [
       "0.9729550745276566"
      ]
     },
     "execution_count": 9,
     "metadata": {},
     "output_type": "execute_result"
    }
   ],
   "source": [
    "\n",
    "total_error = sum(abs(y - tree2.predict(temp2[list(set(cols)-{'Patient Weights','Heart Disease'})])) \n",
    "                  * list(temp2['sample weight']))\n",
    "amount_of_say = 1/2*np.log((1-total_error)/total_error)\n",
    "amount_of_say"
   ]
  },
  {
   "cell_type": "markdown",
   "metadata": {},
   "source": [
    "**The AdaBoost model makes predictions by having each tree in the forest classify the sample. Then, we split the trees into groups according to their decisions. For each group, we add up the significance of every tree inside the group. The final classification made by the forest as a whole is determined by the group with the largest sum.**\n"
   ]
  },
  {
   "cell_type": "code",
   "execution_count": 10,
   "metadata": {},
   "outputs": [
    {
     "data": {
      "text/html": [
       "<div>\n",
       "<style scoped>\n",
       "    .dataframe tbody tr th:only-of-type {\n",
       "        vertical-align: middle;\n",
       "    }\n",
       "\n",
       "    .dataframe tbody tr th {\n",
       "        vertical-align: top;\n",
       "    }\n",
       "\n",
       "    .dataframe thead th {\n",
       "        text-align: right;\n",
       "    }\n",
       "</style>\n",
       "<table border=\"1\" class=\"dataframe\">\n",
       "  <thead>\n",
       "    <tr style=\"text-align: right;\">\n",
       "      <th></th>\n",
       "      <th>Trees predict positive</th>\n",
       "      <th>Total amount of say(positive class).</th>\n",
       "      <th>Trees predict negative</th>\n",
       "      <th>Total amount of say(negative class)</th>\n",
       "    </tr>\n",
       "  </thead>\n",
       "  <tbody>\n",
       "    <tr>\n",
       "      <th>0</th>\n",
       "      <td>1</td>\n",
       "      <td>0.25</td>\n",
       "      <td>5</td>\n",
       "      <td>0.5</td>\n",
       "    </tr>\n",
       "    <tr>\n",
       "      <th>1</th>\n",
       "      <td>2</td>\n",
       "      <td>0.25</td>\n",
       "      <td>6</td>\n",
       "      <td>0.5</td>\n",
       "    </tr>\n",
       "    <tr>\n",
       "      <th>2</th>\n",
       "      <td>3</td>\n",
       "      <td>0.25</td>\n",
       "      <td>7</td>\n",
       "      <td>0.5</td>\n",
       "    </tr>\n",
       "    <tr>\n",
       "      <th>3</th>\n",
       "      <td>4</td>\n",
       "      <td>0.25</td>\n",
       "      <td>8</td>\n",
       "      <td>0.5</td>\n",
       "    </tr>\n",
       "  </tbody>\n",
       "</table>\n",
       "</div>"
      ],
      "text/plain": [
       "   Trees predict positive  Total amount of say(positive class).  \\\n",
       "0                       1                                  0.25   \n",
       "1                       2                                  0.25   \n",
       "2                       3                                  0.25   \n",
       "3                       4                                  0.25   \n",
       "\n",
       "   Trees predict negative  Total amount of say(negative class)  \n",
       "0                       5                                  0.5  \n",
       "1                       6                                  0.5  \n",
       "2                       7                                  0.5  \n",
       "3                       8                                  0.5  "
      ]
     },
     "execution_count": 10,
     "metadata": {},
     "output_type": "execute_result"
    }
   ],
   "source": [
    "pd.DataFrame({'Trees predict positive': [1,2,3,4],\n",
    "                    'Total amount of say(positive class).':[0.25]*4,\n",
    "                    'Trees predict negative':[5,6,7, 8],\n",
    "                     'Total amount of say(negative class)':[0.5]*4\n",
    "                    })\n",
    "\n",
    "# Since the amount of say of the negative class is higher\n",
    "\n",
    "## Therefore, it will predict negative"
   ]
  }
 ],
 "metadata": {
  "kernelspec": {
   "display_name": "Python 3",
   "language": "python",
   "name": "python3"
  },
  "language_info": {
   "codemirror_mode": {
    "name": "ipython",
    "version": 3
   },
   "file_extension": ".py",
   "mimetype": "text/x-python",
   "name": "python",
   "nbconvert_exporter": "python",
   "pygments_lexer": "ipython3",
   "version": "3.7.9"
  }
 },
 "nbformat": 4,
 "nbformat_minor": 4
}
